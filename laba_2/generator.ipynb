{
 "cells": [
  {
   "cell_type": "code",
   "execution_count": 1,
   "metadata": {},
   "outputs": [
    {
     "name": "stdout",
     "output_type": "stream",
     "text": [
      "CSV-файл \"regions_data.csv\" сгенерирован.\n"
     ]
    }
   ],
   "source": [
    "import numpy as np\n",
    "import csv\n",
    "import random\n",
    "\n",
    "# Задайте имя CSV-файла для таблицы regions\n",
    "csv_filename = 'regions_data.csv'\n",
    "\n",
    "# Определите количество строк и размер блока\n",
    "total_rows = 500000000  # Укажите общее количество строк данных (10 ГБ)\n",
    "batch_size = 1000  # Укажите размер блока\n",
    "\n",
    "# Откройте CSV-файл для записи данных\n",
    "with open(csv_filename, 'w', newline='') as csvfile:\n",
    "    csv_writer = csv.writer(csvfile)\n",
    "    \n",
    "    # Запишите заголовок столбца\n",
    "    csv_writer.writerow(['region_id', 'name', 'country_id'])\n",
    "    \n",
    "    for start_row in range(0, total_rows, batch_size):\n",
    "        end_row = min(start_row + batch_size, total_rows)\n",
    "        \n",
    "        # Запишите текущий блок данных в файл\n",
    "        for i in range(start_row + 1, end_row + 1):\n",
    "            region_id = i\n",
    "            region_name = 'Region ' + str(random.randint(1, 100))\n",
    "            country_id = random.randint(1, 100)\n",
    "            \n",
    "            csv_writer.writerow([region_id, region_name, country_id])\n",
    "\n",
    "print(f'CSV-файл \"{csv_filename}\" сгенерирован.')"
   ]
  },
  {
   "cell_type": "code",
   "execution_count": 2,
   "metadata": {},
   "outputs": [],
   "source": [
    "import pandas as pd\n",
    "df = pd.read_csv('regions_data_small.csv')\n"
   ]
  },
  {
   "cell_type": "code",
   "execution_count": 8,
   "metadata": {},
   "outputs": [
    {
     "data": {
      "text/plain": [
       "region_id      int64\n",
       "name          object\n",
       "country_id     int64\n",
       "dtype: object"
      ]
     },
     "execution_count": 8,
     "metadata": {},
     "output_type": "execute_result"
    }
   ],
   "source": [
    "df.dtypes"
   ]
  }
 ],
 "metadata": {
  "kernelspec": {
   "display_name": "Python 3",
   "language": "python",
   "name": "python3"
  },
  "language_info": {
   "codemirror_mode": {
    "name": "ipython",
    "version": 3
   },
   "file_extension": ".py",
   "mimetype": "text/x-python",
   "name": "python",
   "nbconvert_exporter": "python",
   "pygments_lexer": "ipython3",
   "version": "3.11.5"
  }
 },
 "nbformat": 4,
 "nbformat_minor": 2
}
